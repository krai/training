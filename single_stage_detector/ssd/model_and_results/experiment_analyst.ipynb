{
 "cells": [
  {
   "cell_type": "markdown",
   "metadata": {},
   "source": [
    "## Data Analysis"
   ]
  },
  {
   "cell_type": "code",
   "execution_count": 7,
   "metadata": {},
   "outputs": [],
   "source": [
    "#Define constants\n",
    "EXP_VARIABLES = 'BS'\n",
    "EXP_SET=\"/openimage-train-coco-finetune\"\n",
    "DATA_PATH = os.getcwd() + \"/experiments\" + EXP_SET\n",
    "\n",
    "import numpy as np\n",
    "import pandas as pd\n",
    "import matplotlib.pyplot as plt\n",
    "import seaborn as sns\n",
    "import re\n",
    "import glob, os\n",
    "import ast"
   ]
  },
  {
   "cell_type": "code",
   "execution_count": 4,
   "metadata": {},
   "outputs": [],
   "source": [
    "def load_values(targets, target, line):\n",
    "    data_dict = ast.literal_eval(line[9:])\n",
    "    try:\n",
    "        if isinstance(targets[target], list):\n",
    "            targets[target].append(data_dict['value'])\n",
    "        else:\n",
    "            targets[target] = data_dict['value']\n",
    "    except ValueError:\n",
    "        print(\"Encountered Value Error... Ignoring\")\n",
    "    return targets\n",
    "\n",
    "def load_accuracy(targets, acc, epoch_num, line):\n",
    "    data_dict = ast.literal_eval(line[9:])\n",
    "    try:\n",
    "        targets[acc].append(data_dict['value'])\n",
    "        targets[epoch_num].append(data_dict['metadata'][epoch_num])\n",
    "    except ValueError:\n",
    "        print(\"Encountered Value Error... Ignoring\")\n",
    "    return targets"
   ]
  },
  {
   "cell_type": "code",
   "execution_count": 5,
   "metadata": {},
   "outputs": [
    {
     "name": "stdout",
     "output_type": "stream",
     "text": [
      "Opening  /home/elim/mlperf-training/training/single_stage_detector/ssd/model_and_results/experiments/openimage-train-coco-finetune/220608200706941989424/220608200706941989424.log\n",
      "Opening  /home/elim/mlperf-training/training/single_stage_detector/ssd/model_and_results/experiments/openimage-train-coco-finetune/220606192017545931369/220606192017545931369.log\n"
     ]
    }
   ],
   "source": [
    "frames = []\n",
    "\n",
    "# os.chdir(DATA_PATH)\n",
    "for idx, file in enumerate(glob.glob(DATA_PATH+'/*/*.log')):\n",
    "    print(\"Opening \", file)\n",
    "    acc_targets = {\n",
    "        \"eval_accuracy\":[],\n",
    "        \"epoch_num\":[]\n",
    "    }\n",
    "    targets = {\n",
    "        \"global_batch_size\":None, \n",
    "    }\n",
    "    with open(file) as f:\n",
    "        for line in f:\n",
    "            if re.search(\"eval_accuracy\", line):\n",
    "                load_accuracy(acc_targets, \"eval_accuracy\", \"epoch_num\", line)\n",
    "            for target in targets.keys():\n",
    "                if re.search(target, line):\n",
    "                    load_values(targets, target, line)\n",
    "    targets.update(acc_targets)\n",
    "    n = len(targets['epoch_num'])\n",
    "    column_list = list(zip(t*n if isinstance(t, list) else t for t in targets))\n",
    "    for t in targets:\n",
    "        if isinstance(targets[t], int):\n",
    "            targets[t] = [targets[t]]*n\n",
    "    df = pd.DataFrame.from_dict(targets)\n",
    "    frames.append(df)\n",
    "\n",
    "\n",
    "\n",
    "if len(frames) != 1:\n",
    "    data = pd.concat(frames)\n",
    "else:\n",
    "    data = frames[0]\n",
    "data = data.reset_index(drop=True)\n",
    "data[EXP_VARIABLES] = data[\"global_batch_size\"].astype(str)"
   ]
  },
  {
   "cell_type": "code",
   "execution_count": 6,
   "metadata": {},
   "outputs": [
    {
     "data": {
      "text/plain": [
       "[<matplotlib.lines.Line2D at 0x7fdc76b15ac0>]"
      ]
     },
     "execution_count": 6,
     "metadata": {},
     "output_type": "execute_result"
    },
    {
     "data": {
      "image/png": "[encoded data removed]",
      "text/plain": [
       "<Figure size 408.75x360 with 1 Axes>"
      ]
     },
     "metadata": {
      "needs_background": "light"
     },
     "output_type": "display_data"
    }
   ],
   "source": [
    "THRESHOLD = 0.3400\n",
    "p = sns.relplot(data=data, kind=\"line\", x=\"epoch_num\", y=\"eval_accuracy\", hue=EXP_VARIABLES)\n",
    "p.axes[0, 0].plot((0, 13), (THRESHOLD, THRESHOLD), linewidth=1)"
   ]
  }
 ],
 "metadata": {
  "interpreter": {
   "hash": "0898df0038dd3903fc3462c74caf3347714b595d2357b5ba3900d4774093e5bc"
  },
  "kernelspec": {
   "display_name": "Python 3.8.12 ('krai')",
   "language": "python",
   "name": "python3"
  },
  "language_info": {
   "codemirror_mode": {
    "name": "ipython",
    "version": 3
   },
   "file_extension": ".py",
   "mimetype": "text/x-python",
   "name": "python",
   "nbconvert_exporter": "python",
   "pygments_lexer": "ipython3",
   "version": "3.8.12"
  },
  "orig_nbformat": 4
 },
 "nbformat": 4,
 "nbformat_minor": 2
}
